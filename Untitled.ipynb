{
 "cells": [
  {
   "cell_type": "code",
   "execution_count": 35,
   "id": "6c8be287-e4e8-4a51-92e7-1760b3200d01",
   "metadata": {},
   "outputs": [
    {
     "name": "stdout",
     "output_type": "stream",
     "text": [
      "Tax:  7.5\n",
      "Tip:  20.0\n",
      "Total: 127.49999999999999\n"
     ]
    }
   ],
   "source": [
    "run custom-object.py"
   ]
  },
  {
   "cell_type": "code",
   "execution_count": 81,
   "id": "55192db4-d92d-4633-81fc-e6337fcb92f7",
   "metadata": {},
   "outputs": [
    {
     "name": "stdout",
     "output_type": "stream",
     "text": [
      "36\n",
      "45.6\n",
      "yellow\n"
     ]
    }
   ],
   "source": [
    "run bult-in-min-max.py"
   ]
  },
  {
   "cell_type": "code",
   "execution_count": 82,
   "id": "eaea39b0-2eba-416c-b5f0-a915d59b3de8",
   "metadata": {},
   "outputs": [
    {
     "name": "stdout",
     "output_type": "stream",
     "text": [
      "30.0\n",
      "10.0\n"
     ]
    }
   ],
   "source": [
    "run calculator.py"
   ]
  },
  {
   "cell_type": "code",
   "execution_count": 91,
   "id": "b22368b6-f734-4cc0-8bc0-beb62a691acd",
   "metadata": {},
   "outputs": [
    {
     "name": "stdout",
     "output_type": "stream",
     "text": [
      "2.25\n",
      "1.5\n"
     ]
    }
   ],
   "source": [
    "run population-dispersion.py"
   ]
  },
  {
   "cell_type": "code",
   "execution_count": 124,
   "id": "224fe463-2af4-41c0-bc31-576aa59ae087",
   "metadata": {},
   "outputs": [
    {
     "name": "stdout",
     "output_type": "stream",
     "text": [
      "36\n"
     ]
    }
   ],
   "source": [
    "print(maximum(12,27,36))"
   ]
  },
  {
   "cell_type": "code",
   "execution_count": 125,
   "id": "928eec96-052e-4ee3-81fb-276c0980f454",
   "metadata": {},
   "outputs": [
    {
     "name": "stdout",
     "output_type": "stream",
     "text": [
      "45.6\n"
     ]
    }
   ],
   "source": [
    "print(maximum(12.3,45.6,9.7))"
   ]
  },
  {
   "cell_type": "code",
   "execution_count": 141,
   "id": "37b76f96-b815-4a92-9f05-f3a5c62076c1",
   "metadata": {},
   "outputs": [
    {
     "name": "stdout",
     "output_type": "stream",
     "text": [
      "yellow\n"
     ]
    }
   ],
   "source": [
    "print(maximum('yellow','red','orange'))"
   ]
  },
  {
   "cell_type": "code",
   "execution_count": 12,
   "id": "34cb2a9c-a1ba-4ce9-bbba-508e059b3cda",
   "metadata": {},
   "outputs": [
    {
     "name": "stdout",
     "output_type": "stream",
     "text": [
      "Face    Frequency\n",
      "   1            0\n",
      "   2          170\n",
      "   3          370\n",
      "   4          486\n",
      "   5          698\n",
      "   6          818\n",
      "   7          999\n",
      "   8          794\n",
      "   9          664\n",
      "  10          525\n",
      "  11          314\n",
      "  12          162\n",
      "Craps: 0.117\n",
      "Wins: 0.21883333333333332\n"
     ]
    }
   ],
   "source": [
    "run playing-craps.py"
   ]
  },
  {
   "cell_type": "code",
   "execution_count": 18,
   "id": "09725f63-4f2d-4f9c-9044-6654ba7b73c1",
   "metadata": {},
   "outputs": [
    {
     "name": "stdout",
     "output_type": "stream",
     "text": [
      "Variance:  953.680438202902\n",
      "Standard Deviation:  30.881716892085226\n"
     ]
    }
   ],
   "source": [
    "run bonus.py"
   ]
  },
  {
   "cell_type": "code",
   "execution_count": null,
   "id": "6d664a70-a3de-492a-a004-47dd7c193b5a",
   "metadata": {},
   "outputs": [],
   "source": []
  },
  {
   "cell_type": "code",
   "execution_count": null,
   "id": "b69a5153-dfda-40aa-a219-840df63f9dae",
   "metadata": {},
   "outputs": [],
   "source": []
  }
 ],
 "metadata": {
  "kernelspec": {
   "display_name": "Python 3",
   "language": "python",
   "name": "python3"
  },
  "language_info": {
   "codemirror_mode": {
    "name": "ipython",
    "version": 3
   },
   "file_extension": ".py",
   "mimetype": "text/x-python",
   "name": "python",
   "nbconvert_exporter": "python",
   "pygments_lexer": "ipython3",
   "version": "3.8.11"
  }
 },
 "nbformat": 4,
 "nbformat_minor": 5
}
